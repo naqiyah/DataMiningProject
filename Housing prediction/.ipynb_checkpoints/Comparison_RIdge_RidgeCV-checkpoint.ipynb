{
 "cells": [
  {
   "cell_type": "markdown",
   "metadata": {},
   "source": [
    "# Comparing value of RMSE from Ridge() and RidgeCV()"
   ]
  },
  {
   "cell_type": "code",
   "execution_count": 1,
   "metadata": {},
   "outputs": [],
   "source": [
    "import numpy as np\n",
    "import pandas as pd\n",
    "import matplotlib.pyplot as plt \n",
    "import seaborn as sns\n",
    "%matplotlib inline"
   ]
  },
  {
   "cell_type": "code",
   "execution_count": 2,
   "metadata": {},
   "outputs": [
    {
     "data": {
      "text/html": [
       "<div>\n",
       "<style scoped>\n",
       "    .dataframe tbody tr th:only-of-type {\n",
       "        vertical-align: middle;\n",
       "    }\n",
       "\n",
       "    .dataframe tbody tr th {\n",
       "        vertical-align: top;\n",
       "    }\n",
       "\n",
       "    .dataframe thead th {\n",
       "        text-align: right;\n",
       "    }\n",
       "</style>\n",
       "<table border=\"1\" class=\"dataframe\">\n",
       "  <thead>\n",
       "    <tr style=\"text-align: right;\">\n",
       "      <th></th>\n",
       "      <th>Rooms</th>\n",
       "      <th>Bathroom</th>\n",
       "      <th>BuildingArea</th>\n",
       "      <th>houseAge</th>\n",
       "      <th>YearBuilt</th>\n",
       "      <th>Distance</th>\n",
       "      <th>Price</th>\n",
       "      <th>Type</th>\n",
       "    </tr>\n",
       "  </thead>\n",
       "  <tbody>\n",
       "    <tr>\n",
       "      <th>0</th>\n",
       "      <td>2</td>\n",
       "      <td>1.0</td>\n",
       "      <td>79.0</td>\n",
       "      <td>120.0</td>\n",
       "      <td>1900.0</td>\n",
       "      <td>2.5</td>\n",
       "      <td>1035000.0</td>\n",
       "      <td>0</td>\n",
       "    </tr>\n",
       "    <tr>\n",
       "      <th>1</th>\n",
       "      <td>3</td>\n",
       "      <td>2.0</td>\n",
       "      <td>210.0</td>\n",
       "      <td>110.0</td>\n",
       "      <td>1910.0</td>\n",
       "      <td>2.5</td>\n",
       "      <td>1876000.0</td>\n",
       "      <td>0</td>\n",
       "    </tr>\n",
       "    <tr>\n",
       "      <th>2</th>\n",
       "      <td>2</td>\n",
       "      <td>1.0</td>\n",
       "      <td>107.0</td>\n",
       "      <td>130.0</td>\n",
       "      <td>1890.0</td>\n",
       "      <td>2.5</td>\n",
       "      <td>1636000.0</td>\n",
       "      <td>0</td>\n",
       "    </tr>\n",
       "    <tr>\n",
       "      <th>3</th>\n",
       "      <td>2</td>\n",
       "      <td>1.0</td>\n",
       "      <td>75.0</td>\n",
       "      <td>120.0</td>\n",
       "      <td>1900.0</td>\n",
       "      <td>2.5</td>\n",
       "      <td>1097000.0</td>\n",
       "      <td>0</td>\n",
       "    </tr>\n",
       "    <tr>\n",
       "      <th>4</th>\n",
       "      <td>3</td>\n",
       "      <td>2.0</td>\n",
       "      <td>190.0</td>\n",
       "      <td>15.0</td>\n",
       "      <td>2005.0</td>\n",
       "      <td>2.5</td>\n",
       "      <td>1350000.0</td>\n",
       "      <td>0</td>\n",
       "    </tr>\n",
       "  </tbody>\n",
       "</table>\n",
       "</div>"
      ],
      "text/plain": [
       "   Rooms  Bathroom  BuildingArea  houseAge  YearBuilt  Distance      Price  \\\n",
       "0      2       1.0          79.0     120.0     1900.0       2.5  1035000.0   \n",
       "1      3       2.0         210.0     110.0     1910.0       2.5  1876000.0   \n",
       "2      2       1.0         107.0     130.0     1890.0       2.5  1636000.0   \n",
       "3      2       1.0          75.0     120.0     1900.0       2.5  1097000.0   \n",
       "4      3       2.0         190.0      15.0     2005.0       2.5  1350000.0   \n",
       "\n",
       "   Type  \n",
       "0     0  \n",
       "1     0  \n",
       "2     0  \n",
       "3     0  \n",
       "4     0  "
      ]
     },
     "execution_count": 2,
     "metadata": {},
     "output_type": "execute_result"
    }
   ],
   "source": [
    "mel = pd.read_csv(\"mel.csv\") #dataset after cleaning\n",
    "mel.head()"
   ]
  },
  {
   "cell_type": "code",
   "execution_count": 3,
   "metadata": {},
   "outputs": [
    {
     "name": "stdout",
     "output_type": "stream",
     "text": [
      "Metrics of training set\n",
      "\n",
      "Intercept: 5174293.4513\n",
      "\n",
      "Root Mean Squared Error: 483719.6842813497\n",
      "\n",
      "R^2: 0.5115\n",
      "Metrics of testing set:\n",
      "\n",
      "Intercept: 5174293.4513\n",
      "\n",
      "Root Mean Squared Error: 456696.93184359244\n",
      "\n",
      "R^2: 0.5447\n"
     ]
    }
   ],
   "source": [
    "from sklearn.linear_model import Ridge, RidgeCV #import Ridge\n",
    "ridgeReg = Ridge(alpha=0.01, normalize=True)\n",
    "\n",
    "a = mel.drop('Price',1)\n",
    "b = mel['Price']\n",
    "\n",
    "from sklearn.model_selection import train_test_split\n",
    "\n",
    "a_train, a_test, b_train, b_test = train_test_split(a,mel.Price, test_size = 0.20, random_state=42) \n",
    "\n",
    "#Training the model\n",
    "ridgeReg.fit(a_train,b_train)\n",
    "b_pred = ridgeReg.predict(a_test)\n",
    "\n",
    "#metrics of training set\n",
    "from sklearn import metrics\n",
    "print('Metrics of training set')\n",
    "print('\\nIntercept: {:>0.04f}'.format(ridgeReg.intercept_))\n",
    "print('\\nRoot Mean Squared Error:',np.sqrt(metrics.mean_squared_error(b_train,ridgeReg.predict(a_train))))\n",
    "print('\\nR^2: {:>0.04f}'.format(ridgeReg.score(a_train, b_train)))\n",
    "\n",
    "# Predicting test set results\n",
    "b_pred = ridgeReg.predict(a_test)\n",
    "\n",
    "print('Metrics of testing set:')\n",
    "print('\\nIntercept: {:>0.04f}'.format(ridgeReg.intercept_))\n",
    "\n",
    "print('\\nRoot Mean Squared Error:',np.sqrt(metrics.mean_squared_error(b_test,b_pred)))\n",
    "print('\\nR^2: {:>0.04f}'.format(ridgeReg.score(a_test, b_test)))"
   ]
  },
  {
   "cell_type": "code",
   "execution_count": null,
   "metadata": {},
   "outputs": [],
   "source": []
  },
  {
   "cell_type": "code",
   "execution_count": 4,
   "metadata": {},
   "outputs": [
    {
     "name": "stdout",
     "output_type": "stream",
     "text": [
      "(100, 7)\n",
      "Value of alpha from RidgeCV:  0.01155064850041579\n"
     ]
    },
    {
     "data": {
      "image/png": "[encoded data removed]",
      "text/plain": [
       "<Figure size 432x288 with 1 Axes>"
      ]
     },
     "metadata": {
      "needs_background": "light"
     },
     "output_type": "display_data"
    }
   ],
   "source": [
    "alphas = 10**np.linspace(10,-2,100)*0.5\n",
    "alphas\n",
    "\n",
    "ridge = Ridge(normalize = True)\n",
    "coefs = []\n",
    "\n",
    "for a in alphas:\n",
    "    ridge.set_params(alpha = a)\n",
    "    ridge.fit(a_train, b_train)\n",
    "    coefs.append(ridge.coef_)\n",
    "    \n",
    "\n",
    "print(np.shape(coefs))\n",
    "\n",
    "ax = plt.gca()\n",
    "ax.plot(alphas, coefs)\n",
    "ax.set_xscale('log')\n",
    "plt.axis('tight')\n",
    "plt.xlabel('alpha')\n",
    "plt.ylabel('weights')\n",
    "\n",
    "\n",
    "\n",
    "ridgecv = RidgeCV(alphas, scoring = 'neg_mean_squared_error', normalize = True)\n",
    "ridgecv.fit(a_train, b_train)\n",
    "print('Value of alpha from RidgeCV: ', ridgecv.alpha_)"
   ]
  },
  {
   "cell_type": "code",
   "execution_count": 5,
   "metadata": {},
   "outputs": [
    {
     "data": {
      "text/plain": [
       "Ridge(alpha=0.01155064850041579, copy_X=True, fit_intercept=True,\n",
       "   max_iter=None, normalize=True, random_state=None, solver='auto',\n",
       "   tol=0.001)"
      ]
     },
     "execution_count": 5,
     "metadata": {},
     "output_type": "execute_result"
    }
   ],
   "source": [
    "ridge4 = Ridge(alpha = ridgecv.alpha_, normalize = True)\n",
    "ridge4.fit(a_train, b_train)"
   ]
  },
  {
   "cell_type": "code",
   "execution_count": 6,
   "metadata": {},
   "outputs": [
    {
     "name": "stdout",
     "output_type": "stream",
     "text": [
      "Metrics of training set\n",
      "\n",
      "Intercept: 5182885.9606\n",
      "\n",
      "Root Mean Squared Error: 483710.4647628479\n",
      "\n",
      "R^2: 0.5115\n"
     ]
    }
   ],
   "source": [
    "#metrics of training set\n",
    "from sklearn import metrics\n",
    "print('Metrics of training set')\n",
    "print('\\nIntercept: {:>0.04f}'.format(ridge.intercept_))\n",
    "print('\\nRoot Mean Squared Error:',np.sqrt(metrics.mean_squared_error(b_train,ridge.predict(a_train))))\n",
    "print('\\nR^2: {:>0.04f}'.format(ridge.score(a_train, b_train)))\n"
   ]
  },
  {
   "cell_type": "code",
   "execution_count": 7,
   "metadata": {},
   "outputs": [
    {
     "name": "stdout",
     "output_type": "stream",
     "text": [
      "Metrics of testing set:\n",
      "\n",
      "Intercept: 5174293.4513\n",
      "\n",
      "Root Mean Squared Error: 456696.93184359244\n",
      "\n",
      "R^2: 0.5447\n"
     ]
    }
   ],
   "source": [
    "# Predicting test set results\n",
    "b_pred = ridgeReg.predict(a_test)\n",
    "\n",
    "print('Metrics of testing set:')\n",
    "print('\\nIntercept: {:>0.04f}'.format(ridgeReg.intercept_))\n",
    "\n",
    "print('\\nRoot Mean Squared Error:',np.sqrt(metrics.mean_squared_error(b_test,b_pred)))\n",
    "print('\\nR^2: {:>0.04f}'.format(ridgeReg.score(a_test, b_test)))"
   ]
  },
  {
   "cell_type": "code",
   "execution_count": null,
   "metadata": {},
   "outputs": [],
   "source": []
  },
  {
   "cell_type": "code",
   "execution_count": null,
   "metadata": {},
   "outputs": [],
   "source": []
  },
  {
   "cell_type": "code",
   "execution_count": null,
   "metadata": {},
   "outputs": [],
   "source": []
  }
 ],
 "metadata": {
  "kernelspec": {
   "display_name": "Python 3",
   "language": "python",
   "name": "python3"
  },
  "language_info": {
   "codemirror_mode": {
    "name": "ipython",
    "version": 3
   },
   "file_extension": ".py",
   "mimetype": "text/x-python",
   "name": "python",
   "nbconvert_exporter": "python",
   "pygments_lexer": "ipython3",
   "version": "3.7.1"
  }
 },
 "nbformat": 4,
 "nbformat_minor": 2
}
